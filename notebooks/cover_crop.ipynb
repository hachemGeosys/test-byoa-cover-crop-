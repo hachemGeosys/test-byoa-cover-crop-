{
 "cells": [
  {
   "cell_type": "code",
   "execution_count": null,
   "metadata": {
    "collapsed": true
   },
   "outputs": [],
   "source": [
    "import sys\n",
    "sys.path.append('../src')\n",
    "from geosyspy import Geosys\n",
    "from geosyspy.utils.constants import *\n",
    "from dotenv import load_dotenv\n",
    "from datetime import datetime\n",
    "from dateutil.relativedelta import relativedelta\n",
    "from cover_crop.processor import Cover-crop\n",
    "import datetime as dt\n",
    "import logging\n",
    "import os\n",
    "import matplotlib.pyplot as plt"
   ]
  },
  {
   "cell_type": "code",
   "execution_count": null,
   "outputs": [],
   "source": [
    "logger = logging.getLogger()\n",
    "logger.setLevel(logging.INFO)\n",
    "\n",
    "# read .env file\n",
    "load_dotenv()\n",
    "\n",
    "API_CLIENT_ID = os.getenv('API_CLIENT_ID')\n",
    "API_CLIENT_SECRET = os.getenv('API_CLIENT_SECRET')\n",
    "API_USERNAME = os.getenv('API_USERNAME')\n",
    "API_PASSWORD = os.getenv('API_PASSWORD')\n",
    "\n"
   ],
   "metadata": {
    "collapsed": false
   }
  },
  {
   "cell_type": "code",
   "execution_count": null,
   "outputs": [],
   "source": [],
   "metadata": {
    "collapsed": false
   }
  }
 ],
 "metadata": {
  "kernelspec": {
   "display_name": "Python 3",
   "language": "python",
   "name": "python3"
  },
  "language_info": {
   "codemirror_mode": {
    "name": "ipython",
    "version": 2
   },
   "file_extension": ".py",
   "mimetype": "text/x-python",
   "name": "python",
   "nbconvert_exporter": "python",
   "pygments_lexer": "ipython2",
   "version": "2.7.6"
  }
 },
 "nbformat": 4,
 "nbformat_minor": 0
}
